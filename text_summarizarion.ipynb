{
  "nbformat": 4,
  "nbformat_minor": 0,
  "metadata": {
    "colab": {
      "provenance": []
    },
    "kernelspec": {
      "name": "python3",
      "display_name": "Python 3"
    },
    "language_info": {
      "name": "python"
    }
  },
  "cells": [
    {
      "cell_type": "code",
      "execution_count": 1,
      "metadata": {
        "id": "kdVRIvXvmATe"
      },
      "outputs": [],
      "source": [
        "# import necessary libraries\n",
        "import numpy as np\n",
        "import pandas as pd\n",
        "import os\n",
        "for dirname, _, filenames in os.walk('/kaggle/input'):\n",
        "    for filename in filenames:\n",
        "        print(os.path.join(dirname, filename))"
      ]
    },
    {
      "cell_type": "code",
      "source": [
        "text = \"\"\"\n",
        "Communism, a multifaceted ideology, envisions a stateless, classless society where the means of production are owned communally,\n",
        " and resources are distributed based on need. Rooted in the theories of Karl Marx and Friedrich Engels, it emerged as a critique\n",
        "  of capitalism, aiming to eliminate exploitation and social inequality. While communism has manifested in various forms throughout\n",
        "   history, its core tenets include the abolition of private property, the establishment of a collective ownership of resources,\n",
        "    and the eventual withering away of the state. However, the practical application of communism has been fraught with challenges,\n",
        "     leading to diverse interpretations and historical outcomes, including authoritarian regimes and economic struggles\n",
        "\"\"\""
      ],
      "metadata": {
        "id": "ITjQ6XcsoTBN"
      },
      "execution_count": 27,
      "outputs": []
    },
    {
      "cell_type": "code",
      "source": [
        "# import major libraries\n",
        "import spacy\n",
        "from spacy.lang.en.stop_words  import STOP_WORDS\n",
        "import string"
      ],
      "metadata": {
        "id": "Rngu30Z7oe8T"
      },
      "execution_count": 29,
      "outputs": []
    },
    {
      "cell_type": "code",
      "source": [
        "stopwords=list(STOP_WORDS)\n",
        "stopwords[:100]"
      ],
      "metadata": {
        "colab": {
          "base_uri": "https://localhost:8080/"
        },
        "id": "Fhl_bL1mo3in",
        "outputId": "50f4bd9f-ffa3-46f0-ef43-af28b106b40b"
      },
      "execution_count": 28,
      "outputs": [
        {
          "output_type": "execute_result",
          "data": {
            "text/plain": [
              "['more',\n",
              " 'has',\n",
              " 'go',\n",
              " 'him',\n",
              " 'amount',\n",
              " 'empty',\n",
              " 'beyond',\n",
              " 'always',\n",
              " 'please',\n",
              " 'bottom',\n",
              " 'an',\n",
              " \"'m\",\n",
              " \"'ll\",\n",
              " 'their',\n",
              " 'hereafter',\n",
              " 'somewhere',\n",
              " 'against',\n",
              " 'he',\n",
              " 'four',\n",
              " 'my',\n",
              " 'moreover',\n",
              " 'there',\n",
              " 'into',\n",
              " 'name',\n",
              " 'along',\n",
              " 'amongst',\n",
              " 'fifteen',\n",
              " 'whereas',\n",
              " 'anyhow',\n",
              " 'himself',\n",
              " 'perhaps',\n",
              " 'that',\n",
              " 'been',\n",
              " 'well',\n",
              " 'put',\n",
              " '’ll',\n",
              " '’re',\n",
              " \"'re\",\n",
              " 'many',\n",
              " 'unless',\n",
              " '‘d',\n",
              " 'various',\n",
              " 'your',\n",
              " 'whole',\n",
              " 'wherein',\n",
              " 'sometime',\n",
              " 'other',\n",
              " 'became',\n",
              " 'doing',\n",
              " 'cannot',\n",
              " 'yet',\n",
              " 'take',\n",
              " 'six',\n",
              " 'seems',\n",
              " '‘s',\n",
              " 'anywhere',\n",
              " 'any',\n",
              " 'can',\n",
              " 'mine',\n",
              " 'within',\n",
              " 'toward',\n",
              " 'when',\n",
              " 'across',\n",
              " 'do',\n",
              " 'this',\n",
              " 'am',\n",
              " 'get',\n",
              " 'beforehand',\n",
              " 'same',\n",
              " 'via',\n",
              " 'here',\n",
              " 'its',\n",
              " 'off',\n",
              " 'they',\n",
              " 'over',\n",
              " 're',\n",
              " 'than',\n",
              " 'anything',\n",
              " 'our',\n",
              " 'ours',\n",
              " 'above',\n",
              " 'therein',\n",
              " 'else',\n",
              " 'from',\n",
              " 'keep',\n",
              " '’ve',\n",
              " 'anyway',\n",
              " 'every',\n",
              " 'about',\n",
              " 'be',\n",
              " \"'s\",\n",
              " 'regarding',\n",
              " 'together',\n",
              " 'nowhere',\n",
              " '’d',\n",
              " 'you',\n",
              " 'three',\n",
              " 'enough',\n",
              " 'after',\n",
              " 'hence']"
            ]
          },
          "metadata": {},
          "execution_count": 28
        }
      ]
    },
    {
      "cell_type": "code",
      "source": [
        "nlp=spacy.load('en_core_web_sm')"
      ],
      "metadata": {
        "id": "g5MZCDdEo8uT"
      },
      "execution_count": 31,
      "outputs": []
    },
    {
      "cell_type": "code",
      "source": [
        "\n",
        "\n",
        "doc=nlp(text)\n",
        "\n"
      ],
      "metadata": {
        "id": "i164tFHkpBaB"
      },
      "execution_count": 30,
      "outputs": []
    },
    {
      "cell_type": "code",
      "source": [
        "punctuation=string.punctuation"
      ],
      "metadata": {
        "id": "s317vTk8pD2f"
      },
      "execution_count": 32,
      "outputs": []
    },
    {
      "cell_type": "code",
      "source": [
        "\n",
        "\n",
        "punctuations=punctuation+'\\n'\n",
        "punctuations\n",
        "\n"
      ],
      "metadata": {
        "colab": {
          "base_uri": "https://localhost:8080/",
          "height": 35
        },
        "id": "rm31JZ6wpFvC",
        "outputId": "6eff67b6-8e7a-4e59-ff50-3a1ce53e5696"
      },
      "execution_count": 33,
      "outputs": [
        {
          "output_type": "execute_result",
          "data": {
            "text/plain": [
              "'!\"#$%&\\'()*+,-./:;<=>?@[\\\\]^_`{|}~\\n'"
            ],
            "application/vnd.google.colaboratory.intrinsic+json": {
              "type": "string"
            }
          },
          "metadata": {},
          "execution_count": 33
        }
      ]
    },
    {
      "cell_type": "code",
      "source": [
        "# words tokens\n",
        "\n",
        "tokens=[token.text for token in doc]\n",
        "\n"
      ],
      "metadata": {
        "id": "qA8lNPrepIdn"
      },
      "execution_count": 34,
      "outputs": []
    },
    {
      "cell_type": "code",
      "source": [
        "\n",
        "\n",
        "tokens[:100]\n",
        "\n"
      ],
      "metadata": {
        "colab": {
          "base_uri": "https://localhost:8080/"
        },
        "id": "UFDDqk8bpMV4",
        "outputId": "6922845d-ba93-41f0-d0d1-a8efb572d5ac"
      },
      "execution_count": 35,
      "outputs": [
        {
          "output_type": "execute_result",
          "data": {
            "text/plain": [
              "['\\n',\n",
              " 'Communism',\n",
              " ',',\n",
              " 'a',\n",
              " 'multifaceted',\n",
              " 'ideology',\n",
              " ',',\n",
              " 'envisions',\n",
              " 'a',\n",
              " 'stateless',\n",
              " ',',\n",
              " 'classless',\n",
              " 'society',\n",
              " 'where',\n",
              " 'the',\n",
              " 'means',\n",
              " 'of',\n",
              " 'production',\n",
              " 'are',\n",
              " 'owned',\n",
              " 'communally',\n",
              " ',',\n",
              " '\\n ',\n",
              " 'and',\n",
              " 'resources',\n",
              " 'are',\n",
              " 'distributed',\n",
              " 'based',\n",
              " 'on',\n",
              " 'need',\n",
              " '.',\n",
              " 'Rooted',\n",
              " 'in',\n",
              " 'the',\n",
              " 'theories',\n",
              " 'of',\n",
              " 'Karl',\n",
              " 'Marx',\n",
              " 'and',\n",
              " 'Friedrich',\n",
              " 'Engels',\n",
              " ',',\n",
              " 'it',\n",
              " 'emerged',\n",
              " 'as',\n",
              " 'a',\n",
              " 'critique',\n",
              " '\\n  ',\n",
              " 'of',\n",
              " 'capitalism',\n",
              " ',',\n",
              " 'aiming',\n",
              " 'to',\n",
              " 'eliminate',\n",
              " 'exploitation',\n",
              " 'and',\n",
              " 'social',\n",
              " 'inequality',\n",
              " '.',\n",
              " 'While',\n",
              " 'communism',\n",
              " 'has',\n",
              " 'manifested',\n",
              " 'in',\n",
              " 'various',\n",
              " 'forms',\n",
              " 'throughout',\n",
              " '\\n   ',\n",
              " 'history',\n",
              " ',',\n",
              " 'its',\n",
              " 'core',\n",
              " 'tenets',\n",
              " 'include',\n",
              " 'the',\n",
              " 'abolition',\n",
              " 'of',\n",
              " 'private',\n",
              " 'property',\n",
              " ',',\n",
              " 'the',\n",
              " 'establishment',\n",
              " 'of',\n",
              " 'a',\n",
              " 'collective',\n",
              " 'ownership',\n",
              " 'of',\n",
              " 'resources',\n",
              " ',',\n",
              " '\\n    ',\n",
              " 'and',\n",
              " 'the',\n",
              " 'eventual',\n",
              " 'withering',\n",
              " 'away',\n",
              " 'of',\n",
              " 'the',\n",
              " 'state',\n",
              " '.',\n",
              " 'However']"
            ]
          },
          "metadata": {},
          "execution_count": 35
        }
      ]
    },
    {
      "cell_type": "code",
      "source": [
        "# word frequency calculation\n",
        "\n",
        "word_frequencies={}\n",
        "\n"
      ],
      "metadata": {
        "id": "PBDlYhy3pQTm"
      },
      "execution_count": 11,
      "outputs": []
    },
    {
      "cell_type": "code",
      "source": [
        "def word_frequency(doc):\n",
        "    mytokens=[token.text.lower().strip() for token in doc if token.text not in punctuations]\n",
        "    mytokens=[token for token in mytokens if token not in stopwords]\n",
        "\n",
        "    return mytokens\n",
        "\n",
        "def calc_word_frequency(temp):\n",
        "    for word in temp:\n",
        "        if word not in word_frequencies.keys():\n",
        "            word_frequencies[word]=1\n",
        "        else:\n",
        "            word_frequencies[word]+=1"
      ],
      "metadata": {
        "id": "98aMpsHmpTSz"
      },
      "execution_count": 36,
      "outputs": []
    },
    {
      "cell_type": "code",
      "source": [
        "\n",
        "\n",
        "mytokens=word_frequency(doc)\n",
        "\n"
      ],
      "metadata": {
        "id": "cQWDIDRypWMl"
      },
      "execution_count": 37,
      "outputs": []
    },
    {
      "cell_type": "code",
      "source": [
        "len(mytokens)"
      ],
      "metadata": {
        "colab": {
          "base_uri": "https://localhost:8080/"
        },
        "id": "AdbsJ3FVpYRA",
        "outputId": "104f1289-5f61-479d-e5b9-c275b1154a07"
      },
      "execution_count": 38,
      "outputs": [
        {
          "output_type": "execute_result",
          "data": {
            "text/plain": [
              "67"
            ]
          },
          "metadata": {},
          "execution_count": 38
        }
      ]
    },
    {
      "cell_type": "code",
      "source": [
        "\n",
        "\n",
        "calc_word_frequency(mytokens)\n",
        "\n"
      ],
      "metadata": {
        "id": "e6a43TXYpapG"
      },
      "execution_count": 39,
      "outputs": []
    },
    {
      "cell_type": "code",
      "source": [
        "\n",
        "\n",
        "print(word_frequencies)\n",
        "\n"
      ],
      "metadata": {
        "colab": {
          "base_uri": "https://localhost:8080/"
        },
        "id": "yhbqkhEJpc41",
        "outputId": "b01839fc-61af-4e8d-fba4-e046551ee0ff"
      },
      "execution_count": 40,
      "outputs": [
        {
          "output_type": "stream",
          "name": "stdout",
          "text": [
            "{'broadly': 0.08333333333333333, 'types': 0.08333333333333333, 'extractive': 0.08333333333333333, 'summarization': 1.0, 'tasks': 0.08333333333333333, 'depending': 0.16666666666666666, 'program': 0.08333333333333333, 'focuses': 0.16666666666666666, 'generic': 0.25, 'obtaining': 0.08333333333333333, 'summary': 0.3333333333333333, 'abstract': 0.16666666666666666, 'collection': 0.25, 'documents': 0.16666666666666666, 'sets': 0.08333333333333333, 'images': 0.25, 'videos': 0.25, 'news': 0.3333333333333333, 'stories': 0.08333333333333333, 'etc': 0.08333333333333333, 'second': 0.08333333333333333, 'query': 0.3333333333333333, 'relevant': 0.16666666666666666, 'called': 0.16666666666666666, 'based': 1.0833333333333333, 'summarizes': 0.08333333333333333, 'objects': 0.08333333333333333, 'specific': 0.08333333333333333, 'systems': 0.08333333333333333, 'able': 0.08333333333333333, 'create': 0.08333333333333333, 'text': 0.08333333333333333, 'summaries': 0.16666666666666666, 'machine': 0.08333333333333333, 'generated': 0.08333333333333333, 'user': 0.08333333333333333, 'needs': 0.08333333333333333, 'example': 0.25, 'problem': 0.16666666666666666, 'document': 0.3333333333333333, 'attempts': 0.08333333333333333, 'automatically': 0.25, 'produce': 0.08333333333333333, 'given': 0.16666666666666666, 'interested': 0.08333333333333333, 'generating': 0.08333333333333333, 'single': 0.08333333333333333, 'source': 0.16666666666666666, 'use': 0.08333333333333333, 'multiple': 0.08333333333333333, 'cluster': 0.08333333333333333, 'articles': 0.25, 'topic': 0.16666666666666666, 'multi': 0.08333333333333333, 'related': 0.16666666666666666, 'application': 1.1666666666666667, 'summarizing': 0.08333333333333333, 'imagine': 0.08333333333333333, 'system': 0.25, 'pulls': 0.08333333333333333, 'web': 0.08333333333333333, 'concisely': 0.08333333333333333, 'represents': 0.08333333333333333, 'latest': 0.08333333333333333, 'image': 0.16666666666666666, 'automatic': 0.08333333333333333, 'consists': 0.08333333333333333, 'selecting': 0.08333333333333333, 'representative': 0.16666666666666666, 'set': 0.16666666666666666, 'larger': 0.08333333333333333, 'images.[3': 0.08333333333333333, 'context': 0.08333333333333333, 'useful': 0.08333333333333333, 'results': 0.08333333333333333, 'exploration': 0.08333333333333333, 'video': 0.16666666666666666, 'domain': 0.08333333333333333, 'creates': 0.08333333333333333, 'trailer': 0.08333333333333333, 'long': 0.08333333333333333, 'applications': 0.08333333333333333, 'consumer': 0.08333333333333333, 'personal': 0.08333333333333333, 'want': 0.16666666666666666, 'skip': 0.08333333333333333, 'boring': 0.16666666666666666, 'repetitive': 0.08333333333333333, 'actions': 0.08333333333333333, 'similarly': 0.08333333333333333, 'surveillance': 0.08333333333333333, 'extract': 0.08333333333333333, 'important': 0.08333333333333333, 'suspicious': 0.08333333333333333, 'activity': 0.08333333333333333, 'ignoring': 0.08333333333333333, 'redundant': 0.08333333333333333, 'frames': 0.08333333333333333, 'captured': 0.08333333333333333, 'communism': 3, 'multifaceted': 1, 'ideology': 1, 'envisions': 1, 'stateless': 1, 'classless': 1, 'society': 1, 'means': 1, 'production': 1, 'owned': 1, 'communally': 1, '': 5, 'resources': 2, 'distributed': 1, 'need': 1, 'rooted': 1, 'theories': 1, 'karl': 1, 'marx': 1, 'friedrich': 1, 'engels': 1, 'emerged': 1, 'critique': 1, 'capitalism': 1, 'aiming': 1, 'eliminate': 1, 'exploitation': 1, 'social': 1, 'inequality': 1, 'manifested': 1, 'forms': 1, 'history': 1, 'core': 1, 'tenets': 1, 'include': 1, 'abolition': 1, 'private': 1, 'property': 1, 'establishment': 1, 'collective': 1, 'ownership': 1, 'eventual': 1, 'withering': 1, 'away': 1, 'state': 1, 'practical': 1, 'fraught': 1, 'challenges': 1, 'leading': 1, 'diverse': 1, 'interpretations': 1, 'historical': 1, 'outcomes': 1, 'including': 1, 'authoritarian': 1, 'regimes': 1, 'economic': 1, 'struggles': 1}\n"
          ]
        }
      ]
    },
    {
      "cell_type": "code",
      "source": [
        "# normalize word count\n",
        "max_length=max(word_frequencies.values())\n",
        "max_length"
      ],
      "metadata": {
        "colab": {
          "base_uri": "https://localhost:8080/"
        },
        "id": "hCRGyElApf6Y",
        "outputId": "861482fa-9463-4296-fa6d-40ec04a1412c"
      },
      "execution_count": 41,
      "outputs": [
        {
          "output_type": "execute_result",
          "data": {
            "text/plain": [
              "5"
            ]
          },
          "metadata": {},
          "execution_count": 41
        }
      ]
    },
    {
      "cell_type": "code",
      "source": [
        "\n",
        "\n",
        "for word in word_frequencies.keys():\n",
        "    word_frequencies[word]=word_frequencies[word]/max_length\n",
        "\n",
        "print(word_frequencies)\n",
        "\n"
      ],
      "metadata": {
        "colab": {
          "base_uri": "https://localhost:8080/"
        },
        "id": "fWO7--wppiOF",
        "outputId": "1b150fdb-ddbb-46dd-db61-9369a9d61227"
      },
      "execution_count": 42,
      "outputs": [
        {
          "output_type": "stream",
          "name": "stdout",
          "text": [
            "{'broadly': 0.016666666666666666, 'types': 0.016666666666666666, 'extractive': 0.016666666666666666, 'summarization': 0.2, 'tasks': 0.016666666666666666, 'depending': 0.03333333333333333, 'program': 0.016666666666666666, 'focuses': 0.03333333333333333, 'generic': 0.05, 'obtaining': 0.016666666666666666, 'summary': 0.06666666666666667, 'abstract': 0.03333333333333333, 'collection': 0.05, 'documents': 0.03333333333333333, 'sets': 0.016666666666666666, 'images': 0.05, 'videos': 0.05, 'news': 0.06666666666666667, 'stories': 0.016666666666666666, 'etc': 0.016666666666666666, 'second': 0.016666666666666666, 'query': 0.06666666666666667, 'relevant': 0.03333333333333333, 'called': 0.03333333333333333, 'based': 0.21666666666666665, 'summarizes': 0.016666666666666666, 'objects': 0.016666666666666666, 'specific': 0.016666666666666666, 'systems': 0.016666666666666666, 'able': 0.016666666666666666, 'create': 0.016666666666666666, 'text': 0.016666666666666666, 'summaries': 0.03333333333333333, 'machine': 0.016666666666666666, 'generated': 0.016666666666666666, 'user': 0.016666666666666666, 'needs': 0.016666666666666666, 'example': 0.05, 'problem': 0.03333333333333333, 'document': 0.06666666666666667, 'attempts': 0.016666666666666666, 'automatically': 0.05, 'produce': 0.016666666666666666, 'given': 0.03333333333333333, 'interested': 0.016666666666666666, 'generating': 0.016666666666666666, 'single': 0.016666666666666666, 'source': 0.03333333333333333, 'use': 0.016666666666666666, 'multiple': 0.016666666666666666, 'cluster': 0.016666666666666666, 'articles': 0.05, 'topic': 0.03333333333333333, 'multi': 0.016666666666666666, 'related': 0.03333333333333333, 'application': 0.23333333333333334, 'summarizing': 0.016666666666666666, 'imagine': 0.016666666666666666, 'system': 0.05, 'pulls': 0.016666666666666666, 'web': 0.016666666666666666, 'concisely': 0.016666666666666666, 'represents': 0.016666666666666666, 'latest': 0.016666666666666666, 'image': 0.03333333333333333, 'automatic': 0.016666666666666666, 'consists': 0.016666666666666666, 'selecting': 0.016666666666666666, 'representative': 0.03333333333333333, 'set': 0.03333333333333333, 'larger': 0.016666666666666666, 'images.[3': 0.016666666666666666, 'context': 0.016666666666666666, 'useful': 0.016666666666666666, 'results': 0.016666666666666666, 'exploration': 0.016666666666666666, 'video': 0.03333333333333333, 'domain': 0.016666666666666666, 'creates': 0.016666666666666666, 'trailer': 0.016666666666666666, 'long': 0.016666666666666666, 'applications': 0.016666666666666666, 'consumer': 0.016666666666666666, 'personal': 0.016666666666666666, 'want': 0.03333333333333333, 'skip': 0.016666666666666666, 'boring': 0.03333333333333333, 'repetitive': 0.016666666666666666, 'actions': 0.016666666666666666, 'similarly': 0.016666666666666666, 'surveillance': 0.016666666666666666, 'extract': 0.016666666666666666, 'important': 0.016666666666666666, 'suspicious': 0.016666666666666666, 'activity': 0.016666666666666666, 'ignoring': 0.016666666666666666, 'redundant': 0.016666666666666666, 'frames': 0.016666666666666666, 'captured': 0.016666666666666666, 'communism': 0.6, 'multifaceted': 0.2, 'ideology': 0.2, 'envisions': 0.2, 'stateless': 0.2, 'classless': 0.2, 'society': 0.2, 'means': 0.2, 'production': 0.2, 'owned': 0.2, 'communally': 0.2, '': 1.0, 'resources': 0.4, 'distributed': 0.2, 'need': 0.2, 'rooted': 0.2, 'theories': 0.2, 'karl': 0.2, 'marx': 0.2, 'friedrich': 0.2, 'engels': 0.2, 'emerged': 0.2, 'critique': 0.2, 'capitalism': 0.2, 'aiming': 0.2, 'eliminate': 0.2, 'exploitation': 0.2, 'social': 0.2, 'inequality': 0.2, 'manifested': 0.2, 'forms': 0.2, 'history': 0.2, 'core': 0.2, 'tenets': 0.2, 'include': 0.2, 'abolition': 0.2, 'private': 0.2, 'property': 0.2, 'establishment': 0.2, 'collective': 0.2, 'ownership': 0.2, 'eventual': 0.2, 'withering': 0.2, 'away': 0.2, 'state': 0.2, 'practical': 0.2, 'fraught': 0.2, 'challenges': 0.2, 'leading': 0.2, 'diverse': 0.2, 'interpretations': 0.2, 'historical': 0.2, 'outcomes': 0.2, 'including': 0.2, 'authoritarian': 0.2, 'regimes': 0.2, 'economic': 0.2, 'struggles': 0.2}\n"
          ]
        }
      ]
    },
    {
      "cell_type": "code",
      "source": [
        "# Sentence tokenization\n",
        "\n",
        "mysentences=[sents for sents in doc.sents]\n",
        "mysentences\n",
        "\n"
      ],
      "metadata": {
        "colab": {
          "base_uri": "https://localhost:8080/"
        },
        "id": "jJh_6yNRplIb",
        "outputId": "c93d88f5-2a66-448d-f270-e6342d250e57"
      },
      "execution_count": 43,
      "outputs": [
        {
          "output_type": "execute_result",
          "data": {
            "text/plain": [
              "[\n",
              " Communism, a multifaceted ideology, envisions a stateless, classless society where the means of production are owned communally,\n",
              "  and resources are distributed based on need.,\n",
              " Rooted in the theories of Karl Marx and Friedrich Engels, it emerged as a critique\n",
              "   of capitalism, aiming to eliminate exploitation and social inequality.,\n",
              " While communism has manifested in various forms throughout\n",
              "    history, its core tenets include the abolition of private property, the establishment of a collective ownership of resources,\n",
              "     and the eventual withering away of the state.,\n",
              " However, the practical application of communism has been fraught with challenges,\n",
              "      leading to diverse interpretations and historical outcomes, including authoritarian regimes and economic struggles]"
            ]
          },
          "metadata": {},
          "execution_count": 43
        }
      ]
    },
    {
      "cell_type": "code",
      "source": [
        "\n",
        "\n",
        "sentences_frequencies={}\n",
        "\n",
        "for sent in mysentences:\n",
        "    for word in sent:\n",
        "        if word.text.lower() in word_frequencies.keys():\n",
        "            if sent not in  sentences_frequencies.keys():\n",
        "                sentences_frequencies[sent]=word_frequencies[word.text.lower()]\n",
        "\n",
        "            else:\n",
        "                sentences_frequencies[sent]+=word_frequencies[word.text.lower()]\n",
        "\n",
        "print(sentences_frequencies)\n",
        "\n",
        "\n"
      ],
      "metadata": {
        "colab": {
          "base_uri": "https://localhost:8080/"
        },
        "id": "rB48hIDjpodL",
        "outputId": "510ea2ad-42e5-49bc-9f23-9ad8f559a682"
      },
      "execution_count": 44,
      "outputs": [
        {
          "output_type": "stream",
          "name": "stdout",
          "text": [
            "{\n",
            "Communism, a multifaceted ideology, envisions a stateless, classless society where the means of production are owned communally,\n",
            " and resources are distributed based on need.: 3.616666666666667, Rooted in the theories of Karl Marx and Friedrich Engels, it emerged as a critique\n",
            "  of capitalism, aiming to eliminate exploitation and social inequality.: 2.8000000000000003, While communism has manifested in various forms throughout\n",
            "   history, its core tenets include the abolition of private property, the establishment of a collective ownership of resources,\n",
            "    and the eventual withering away of the state.: 4.200000000000001, However, the practical application of communism has been fraught with challenges,\n",
            "     leading to diverse interpretations and historical outcomes, including authoritarian regimes and economic struggles\n",
            ": 3.4333333333333345}\n"
          ]
        }
      ]
    },
    {
      "cell_type": "code",
      "source": [
        "total_sentences=len(mysentences)\n",
        "total_sentences"
      ],
      "metadata": {
        "colab": {
          "base_uri": "https://localhost:8080/"
        },
        "id": "z5l1DTPbprYH",
        "outputId": "46d2c643-8734-4ead-a723-dd189312eefc"
      },
      "execution_count": 46,
      "outputs": [
        {
          "output_type": "execute_result",
          "data": {
            "text/plain": [
              "4"
            ]
          },
          "metadata": {},
          "execution_count": 46
        }
      ]
    },
    {
      "cell_type": "code",
      "source": [
        "num_sent=int(total_sentences*0.3)\n",
        "num_sent"
      ],
      "metadata": {
        "colab": {
          "base_uri": "https://localhost:8080/"
        },
        "id": "9hFbUF3zptbF",
        "outputId": "a74ec343-673c-4980-bd30-eec7b6892d7a"
      },
      "execution_count": 47,
      "outputs": [
        {
          "output_type": "execute_result",
          "data": {
            "text/plain": [
              "1"
            ]
          },
          "metadata": {},
          "execution_count": 47
        }
      ]
    },
    {
      "cell_type": "code",
      "source": [
        "\n",
        "\n",
        "from heapq import nlargest\n",
        "\n"
      ],
      "metadata": {
        "id": "JAotuYUopvNy"
      },
      "execution_count": 48,
      "outputs": []
    },
    {
      "cell_type": "code",
      "source": [
        "summary=nlargest(num_sent, sentences_frequencies, key=sentences_frequencies.get)\n",
        "summary"
      ],
      "metadata": {
        "colab": {
          "base_uri": "https://localhost:8080/"
        },
        "id": "m6XZzIlnpxXF",
        "outputId": "7daa389d-e787-4384-9c56-8d8dc420fb8b"
      },
      "execution_count": 49,
      "outputs": [
        {
          "output_type": "execute_result",
          "data": {
            "text/plain": [
              "[While communism has manifested in various forms throughout\n",
              "    history, its core tenets include the abolition of private property, the establishment of a collective ownership of resources,\n",
              "     and the eventual withering away of the state.]"
            ]
          },
          "metadata": {},
          "execution_count": 49
        }
      ]
    },
    {
      "cell_type": "code",
      "source": [
        "\n",
        "\n",
        "final_summary=[word.text for word in summary]\n",
        "final_summary=' '.join(final_summary)\n",
        "\n"
      ],
      "metadata": {
        "id": "4diOmN1Ap0Mg"
      },
      "execution_count": 50,
      "outputs": []
    },
    {
      "cell_type": "code",
      "source": [
        "\n",
        "\n",
        "final_summary\n",
        "\n"
      ],
      "metadata": {
        "colab": {
          "base_uri": "https://localhost:8080/",
          "height": 52
        },
        "id": "-OS9BIaTp2Rq",
        "outputId": "7ab10ce5-23b1-4ee1-ac78-032af227cef7"
      },
      "execution_count": 51,
      "outputs": [
        {
          "output_type": "execute_result",
          "data": {
            "text/plain": [
              "'While communism has manifested in various forms throughout\\n   history, its core tenets include the abolition of private property, the establishment of a collective ownership of resources,\\n    and the eventual withering away of the state.'"
            ],
            "application/vnd.google.colaboratory.intrinsic+json": {
              "type": "string"
            }
          },
          "metadata": {},
          "execution_count": 51
        }
      ]
    }
  ]
}